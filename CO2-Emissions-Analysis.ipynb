{
  "cells": [
    {
      "cell_type": "markdown",
      "metadata": {},
      "source": [
        "# Downloading Data\n",
        "The following code reads the data from the 'owid-co2-data.csv' file. Please make sure to place the file in the same directory as this notebook."
      ]
    },
    {
      "cell_type": "code",
      "execution_count": null,
      "metadata": {},
      "outputs": [],
      "source": [
        "import pandas as pd\n",
        "\n",
        "df = pd.read_csv('owid-co2-data.csv')"
      ]
    },
    {
      "cell_type": "markdown",
      "metadata": {},
      "source": [
        "# Adding further imports that your notebook needs\n"
      ]
    },
    {
      "cell_type": "code",
      "execution_count": null,
      "metadata": {},
      "outputs": [],
      "source": [
        "import matplotlib.pyplot as plt\n",
        "import seaborn as sns"
      ]
    },
    {
      "cell_type": "markdown",
      "metadata": {},
      "source": [
        "\n",
        "## Q1. The growth of CO2 emissions\n",
        "\n",
        "*How have CO2 emissions grown over time?*\n",
        "\n",
        "The dataset contains entries for countries grouped into four income groups: low, lower-middle, upper-middle, and high. i) How have the total annual CO2 emissions of each income group varied over the years 1950 to 2021? ii) How has the per capita CO2 emissions (i.e., the emissions per person) of these groups varied over the same period? Comment on how the contribution of each income group is different when measured in terms of total emissions and per capita emissions.\n",
        "\n",
        "(You can find the Persian version of the question in the project file)\n",
        "\n",
        "\n"
      ]
    },
    {
      "cell_type": "code",
      "execution_count": null,
      "metadata": {},
      "outputs": [],
      "source": [
        "\n",
        "# 1)\n",
        "sns.set_theme()\n",
        "income_groups=['Low-income countries','Lower-middle-income countries','Upper-middle-income countries','High-income countries']\n",
        "income_country=df[df['country'].isin(income_groups)]\n",
        "\n",
        "plt.figure(figsize=(10,5))\n",
        "a = sns.lineplot(data=income_country, x='year', y='co2', hue='country')\n",
        "a.set_xlim(1950,2021)\n",
        "plt.legend(loc='upper left')\n",
        "plt.title(\"CO2-EMISSION\")\n",
        "plt.xlabel(\"YEAR\")\n",
        "plt.ylabel(\"CO2\")\n",
        "plt.show()\n",
        "\n",
        "# 2)\n",
        "sns.set_theme()\n",
        "income_groups=['Low-income countries','Lower-middle-income countries','Upper-middle-income countries','High-income countries']\n",
        "income_country=df[df['country'].isin(income_groups)]\n",
        "\n",
        "plt.figure(figsize=(10,5))\n",
        "a = sns.lineplot(data=income_country, x='year', y='co2_per_capita', hue='country')\n",
        "a.set_xlim(1950,2021)\n",
        "plt.legend(loc='upper left')\n",
        "plt.title(\"CO2-EMISSION\")\n",
        "plt.xlabel(\"YEAR\")\n",
        "plt.ylabel(\"CO2\")\n",
        "plt.show()\n"
      ]
    },
    {
      "cell_type": "markdown",
      "metadata": {},
      "source": [
        "\n",
        "### Comment\n",
        "\n",
        "Looking at these two graphs, it can be concluded that in the first graph, considering the total amount of carbon dioxide produced by four country models, it seems that high-income countries have been able to significantly reduce their carbon dioxide emissions after 2010. However, based on the second graph, we reach the conclusion that if we consider the per capita emissions in those countries, the carbon dioxide production is still very high in high-income countries, even if it has decreased since 2010.\n"
      ]
    },
    {
      "cell_type": "markdown",
      "metadata": {},
      "source": [
        "## Q2. The share of CO2 emissions by country over time (Continued)\n",
        "\n",
        "Compare the share of global carbon emissions for the top 5 emitting countries as a proportion of the total world emissions. Make separate plots for the years 1960, 1990, and 2020. Make a similar set of plots but normalized in a way that accounts for the population of each country. Note, all the plots should appear in the same figure.\n",
        "\n",
        "Comment on how the top 5 emitting countries have changed over time and how the top 5 emitting countries change when you normalize for population.\n",
        "\n",
        "(Add your solution below. Add further markdown and code cells as needed.)\n",
        "\n",
        "You can find the Persian version of the question in the project file.\n",
        "\n",
        "\n"
      ]
    },
    {
      "cell_type": "code",
      "execution_count": null,
      "metadata": {},
      "outputs": [],
      "source": [
        "\n",
        "sns.set_theme()\n",
        "\n",
        "not_countries=['Africa','World', 'Non-OECD (GCP)', 'Asia', 'Asia (GCP)', 'Upper-middle-income countries', 'High-income countries', 'OECD (GCP)',  'Europe', 'Europe (GCP)', 'Asia (excl. China and India)', 'North America', 'North America (GCP)', 'Lower-middle-income countries',  'European Union (28)', 'Europe (excl. EU-27)', 'European Union (27) (GCP)', 'European Union (27)', 'Europe (excl. EU-28)', 'Middle East (GCP)',  'Africa (GCP)', 'International transport', 'North America (excl. USA)', 'South America', 'South America (GCP)',]\n",
        "\n",
        "# Create subplots for a 2x3 grid\n",
        "fig, axs = plt.subplots(2, 3, figsize=(18, 12))\n",
        "\n",
        "# Iterate through each year\n",
        "years_of_interest = [1960, 1990, 2020]\n",
        "filtered_data = df[df['year'].isin(years_of_interest) & ~df['country'].isin(not_countries)]\n",
        "grouped_data = filtered_data.groupby(['year', 'country']).agg({'co2': 'sum', 'population': 'sum'}).reset_index()\n",
        "top5_emitters = {}\n",
        "\n",
        "for i, year in enumerate(years_of_interest):\n",
        "    top5_emitters[year] = grouped_data[grouped_data['year'] == year].nlargest(5, 'co2')\n",
        "\n",
        "    # Plot on the corresponding subplot in the first row\n",
        "    sns.barplot(data=top5_emitters[year], x='country', y='co2', ax=axs[0, i], color='skyblue')\n",
        "    axs[0, i].set_title(f\"Top 5 CO2 Emission Countries in {year}\")\n",
        "    axs[0, i].set_xlabel(\"Country\")\n",
        "    axs[0, i].set_ylabel(\"CO2 Emission\")\n",
        "\n",
        "    # Filter for the top 5 countries per capita for the current year\n",
        "    df_year = df[df['year'] == year]\n",
        "    df_year['co2_per_person'] = df_year['share_global_co2'] / df_year['population'] * (1**6)\n",
        "\n",
        "    top_countries_year_per_capita = df_year.nlargest(5, 'co2_per_person')\n",
        "\n",
        "    # Plot on the corresponding subplot in the second row\n",
        "    sns.barplot(data=top_countries_year_per_capita, x='country', y='co2_per_person', ax=axs[1, i], color='purple')\n",
        "    axs[1, i].set_title(f\"Top 5 CO2 Emission Countries per Capita in {year}\")\n",
        "    axs[1, i].set_xlabel(\"Country\")\n",
        "    axs[1, i].set_ylabel(\"CO2 Emission per Capita\")\n",
        "\n",
        "# Adjust layout and display the plot\n",
        "plt.tight_layout()\n",
        "plt.show()\n",
        "\n"
      ]
    },
    {
      "cell_type": "markdown",
      "metadata": {},
      "source": [
        "\n",
        "### Comment\n",
        "\n",
        "The bar plots for the top 5 CO2-emitting countries in 1960, 1990, and 2020 demonstrate the changing landscape of emissions. It's evident that China's and India's contributions have significantly increased over the years. When considering emissions per capita, the rankings also shift, highlighting the importance of normalizing for population size."
      ]
    },
    {
      "cell_type": "markdown",
      "metadata": {},
      "source": [
        "## Q3. The development of wealth inequality over time (Continued)\n",
        "\n",
        "Make a plot that compares the distribution of GDP per capita across the countries in the world and 10-yearly intervals from 1950 to 2020. Comment on how the distribution has changed over time.\n",
        "\n",
        "You can find the Persian version of the question in the project file.\n",
        "\n"
      ]
    },
    {
      "cell_type": "code",
      "execution_count": null,
      "metadata": {},
      "outputs": [],
      "source": [
        "\n",
        "sns.set_theme()\n",
        "\n",
        "not_countries=['Africa','World', 'Non-OECD (GCP)', 'Asia', 'Asia (GCP)', 'Upper-middle-income countries', 'High-income countries', 'OECD (GCP)',  'Europe', 'Europe (GCP)', 'Asia (excl. China and India)', 'North America', 'North America (GCP)', 'Lower-middle-income countries',  'European Union (28)', 'Europe (excl. EU-27)', 'European Union (27) (GCP)', 'European Union (27)', 'Europe (excl. EU-28)', 'Middle East (GCP)',  'Africa (GCP)', 'International transport', 'North America (excl. USA)', 'South America', 'South America (GCP)',]\n",
        "years_of_interest = [1950, 1960, 1970, 1980, 1990, 2000, 2010, 2018]\n",
        "\n",
        "# Filter data for the specified years and countries\n",
        "filtered_data = df[(df['year'].isin(years_of_interest)) & (~df['country'].isin(not_countries))]\n",
        "\n",
        "# Calculate GDP per capita\n",
        "filtered_data['gdp_per_capita'] = filtered_data['gdp'] / filtered_data['population']\n",
        "\n",
        "# Set a custom color palette\n",
        "custom_palette = sns.color_palette(\"Paired\")\n",
        "\n",
        "# Create horizontal violin plots for each year with customizations\n",
        "plt.figure(figsize=(16, 10))\n",
        "sns.set(style=\"whitegrid\")\n",
        "sns.set_palette(custom_palette)\n",
        "sns.set_theme(style=\"whitegrid\", font_scale=1.2)\n",
        "\n",
        "# Define a common x-axis range\n",
        "x_axis_range = (-25000, 150000)\n",
        "\n",
        "for i, years in enumerate(years_of_interest):\n",
        "    plt.subplot(2, 4, i + 1)\n",
        "    # Filter out negative values for display\n",
        "    filtered_data_positive = filtered_data[(filtered_data['gdp_per_capita'] >= 0) | (filtered_data['year'] != years)]\n",
        "    sns.violinplot(x='gdp_per_capita', y='year', data=filtered_data_positive[filtered_data_positive['year'] == years], orient='h', linewidth=1.5, width=0.8, inner='quartile',color='lightgreen')\n",
        "    plt.title(f'GDP Per Capita Distribution - {years}', fontsize=14)\n",
        "    plt.xlabel('GDP Per Capita', fontsize=12)\n",
        "    plt.ylabel('Year', fontsize=12)\n",
        "    plt.xlim(x_axis_range)  # Set common x-axis range\n",
        "\n",
        "plt.tight_layout()\n",
        "plt.show()\n"
      ]
    },
    {
      "cell_type": "markdown",
      "metadata": {},
      "source": [
        "\n",
        "### Comment\n",
        "\n",
        "The violin plots showcase the distribution of GDP per capita across countries at 10-year intervals from 1950 to 2018. Over time, there is a noticeable shift towards higher GDP per capita, indicating overall economic growth. However, there are still variations in wealth among countries, and the plots highlight changes in the distribution.\n",
        "\n",
        "Feel free to adjust the visuals or add more insights based on your interpretation of the plots."
      ]
    }
  ],
  "metadata": {
    "colab": {
      "provenance": []
    },
    "kernelspec": {
      "display_name": "com6018_dev",
      "language": "python",
      "name": "python3"
    },
    "language_info": {
      "codemirror_mode": {
        "name": "ipython",
        "version": 3
      },
      "file_extension": ".py",
      "mimetype": "text/x-python",
      "name": "python",
      "nbconvert_exporter": "python",
      "pygments_lexer": "ipython3",
      "version": "3.11.5"
    },
    "orig_nbformat": 4
  },
  "nbformat": 4,
  "nbformat_minor": 0
}
